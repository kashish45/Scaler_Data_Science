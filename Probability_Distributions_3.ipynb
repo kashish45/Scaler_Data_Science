{
  "nbformat": 4,
  "nbformat_minor": 0,
  "metadata": {
    "colab": {
      "name": "Probability_Distributions_3",
      "provenance": [],
      "collapsed_sections": [],
      "authorship_tag": "ABX9TyNI0j9l5OaOi2Qa3Z+UjGAE",
      "include_colab_link": true
    },
    "kernelspec": {
      "name": "python3",
      "display_name": "Python 3"
    },
    "language_info": {
      "name": "python"
    }
  },
  "cells": [
    {
      "cell_type": "markdown",
      "metadata": {
        "id": "view-in-github",
        "colab_type": "text"
      },
      "source": [
        "<a href=\"https://colab.research.google.com/github/kashish45/Scaler_Data_Science/blob/main/Probability_Distributions_3.ipynb\" target=\"_parent\"><img src=\"https://colab.research.google.com/assets/colab-badge.svg\" alt=\"Open In Colab\"/></a>"
      ]
    },
    {
      "cell_type": "code",
      "execution_count": 1,
      "metadata": {
        "id": "Vy99FFcMSOXE"
      },
      "outputs": [],
      "source": [
        "import pandas as pd\n",
        "import numpy as np\n",
        "import matplotlib.pyplot as plt\n",
        "import seaborn as sns"
      ]
    },
    {
      "cell_type": "code",
      "source": [
        "from scipy import stats\n",
        "stats.poisson.pmf(k=30,mu=15) #if in 1 hour we are getting 15 calls and we want what is the probability that any random hour we can get 30 calls"
      ],
      "metadata": {
        "colab": {
          "base_uri": "https://localhost:8080/"
        },
        "id": "a2gEvXshSyWw",
        "outputId": "8771802a-88ba-4ee7-8ca9-127f84cedf98"
      },
      "execution_count": 5,
      "outputs": [
        {
          "output_type": "execute_result",
          "data": {
            "text/plain": [
              "0.00022113651863943715"
            ]
          },
          "metadata": {},
          "execution_count": 5
        }
      ]
    },
    {
      "cell_type": "code",
      "source": [
        "stats.poisson.cdf(k=18,mu=15) #P(X<=18)"
      ],
      "metadata": {
        "colab": {
          "base_uri": "https://localhost:8080/"
        },
        "id": "OqNGwTQlUEQ3",
        "outputId": "ef57591d-2d05-40ac-f27a-04d3cde6dfef"
      },
      "execution_count": 6,
      "outputs": [
        {
          "output_type": "execute_result",
          "data": {
            "text/plain": [
              "0.8194717116327225"
            ]
          },
          "metadata": {},
          "execution_count": 6
        }
      ]
    },
    {
      "cell_type": "code",
      "source": [
        "1-stats.poisson.cdf(k=18,mu=15) #There is 18% chance  that you can get more than 18 calls"
      ],
      "metadata": {
        "colab": {
          "base_uri": "https://localhost:8080/"
        },
        "id": "tj6uByOjUzoo",
        "outputId": "31a99dfb-08b1-48e6-e184-ceb468dbe94f"
      },
      "execution_count": 7,
      "outputs": [
        {
          "output_type": "execute_result",
          "data": {
            "text/plain": [
              "0.18052828836727752"
            ]
          },
          "metadata": {},
          "execution_count": 7
        }
      ]
    },
    {
      "cell_type": "code",
      "source": [
        "1-stats.poisson.cdf(k=19,mu=15) #There is 12% chance  that you can get more than 19 calls in 1 hour  "
      ],
      "metadata": {
        "colab": {
          "base_uri": "https://localhost:8080/"
        },
        "id": "x86SAKFZU7lk",
        "outputId": "20593d1d-54c0-4892-d031-23d85644fb86"
      },
      "execution_count": 8,
      "outputs": [
        {
          "output_type": "execute_result",
          "data": {
            "text/plain": [
              "0.12478121503252493"
            ]
          },
          "metadata": {},
          "execution_count": 8
        }
      ]
    },
    {
      "cell_type": "code",
      "source": [
        ""
      ],
      "metadata": {
        "id": "Q85szjIcXWQX"
      },
      "execution_count": null,
      "outputs": []
    }
  ]
}